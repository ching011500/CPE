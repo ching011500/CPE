{
 "cells": [
  {
   "cell_type": "markdown",
   "id": "bb4c3b1f",
   "metadata": {},
   "source": [
    "# TeX Quotes\n",
    "\n",
    "## 題目說明\n",
    "TeX 是 Donald Knuth 所設計的排版系統。  \n",
    "在 TeX 中，雙引號 **\"** 並不是直接使用，而是透過兩個字元的組合來表示：\n",
    "\n",
    "- 開引號：`` （兩個反引號）\n",
    "- 關引號：'' （兩個單引號）\n",
    "\n",
    "因此，當原始輸入文字含有 `\"` 時，需要依照出現的順序交替替換成上述的字元組合。\n",
    "\n",
    "## 輸入\n",
    "- 輸入包含多行文字。\n",
    "- 保證整份輸入中雙引號數量為偶數。\n",
    "- 直到 **EOF (end-of-file)** 結束。\n",
    "\n",
    "## 輸出\n",
    "- 將輸入內容原樣輸出，但每一對 `\"` 依出現順序替換成：\n",
    "  - 第一個 `\"` → ``  \n",
    "  - 第二個 `\"` → ''  \n",
    "  - 第三個 `\"` → ``  \n",
    "  - 第四個 `\"` → ''  \n",
    "  - 以此類推。\n",
    "\n",
    "## 範例輸入\n",
    "\n",
    "```\n",
    "\"To be or not to be,\" quoth the Bard, \"that is the question\".\n",
    "The programming contestant replied: \"I must disagree.\n",
    "To 'C' or not to 'C', that is The Question!\"\n",
    "```\n",
    "\n",
    "## 範例輸出\n",
    "\n",
    "```\n",
    "``To be or not to be,'' quoth the Bard, that is the question''.\n",
    "The programming contestant replied: ``I must disagree.\n",
    "To 'C' or not to 'C', that is The Question!''\n",
    "```"
   ]
  },
  {
   "cell_type": "code",
   "execution_count": null,
   "id": "325384a1",
   "metadata": {},
   "outputs": [
    {
     "name": "stdout",
     "output_type": "stream",
     "text": [
      "``To be or not to be,\" quoth the Bard, ``that\n",
      "\n",
      "is the question\".\n",
      "\n",
      "The programming contestant replied: ``I must disagree.\n",
      "\n",
      "To 'C' or not to 'C', that is The Question!\"\n",
      "\n"
     ]
    }
   ],
   "source": [
    "from io import StringIO\n",
    "import sys\n",
    "\n",
    "sys.stdin = StringIO(\n",
    "\"\"\"\\\n",
    "\"To be or not to be,\" quoth the Bard, \"that\n",
    "is the question\".\n",
    "The programming contestant replied: \"I must disagree.\n",
    "To 'C' or not to 'C', that is The Question!\"\n",
    "\"\"\")\n",
    "\n",
    "first = True\n",
    "\n",
    "for line in sys.stdin:\n",
    "    new = \"\"\n",
    "    for ch in line:\n",
    "        if(ch == '\"'):\n",
    "            if first:\n",
    "                new += \"``\"\n",
    "            else:\n",
    "                new += '\"\"'\n",
    "            first = not first\n",
    "        else:\n",
    "            new += ch\n",
    "    print(new) "
   ]
  }
 ],
 "metadata": {
  "kernelspec": {
   "display_name": "myenv",
   "language": "python",
   "name": "python3"
  },
  "language_info": {
   "codemirror_mode": {
    "name": "ipython",
    "version": 3
   },
   "file_extension": ".py",
   "mimetype": "text/x-python",
   "name": "python",
   "nbconvert_exporter": "python",
   "pygments_lexer": "ipython3",
   "version": "3.10.17"
  }
 },
 "nbformat": 4,
 "nbformat_minor": 5
}
