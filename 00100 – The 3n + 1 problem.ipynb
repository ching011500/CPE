{
 "cells": [
  {
   "cell_type": "markdown",
   "id": "09b66757",
   "metadata": {},
   "source": [
    "# The 3n + 1 Problem\n",
    "\n",
    "## 問題敘述\n",
    "考慮以下演算法：\n",
    "\n",
    "1. input n  \n",
    "2. print n  \n",
    "3. if n = 1 then STOP  \n",
    "4. if n 是奇數 → n ← 3n + 1  \n",
    "5. else n ← n / 2  \n",
    "6. GOTO 2  \n",
    "\n",
    "例如輸入 `22`，會輸出序列：  \n",
    "`22 11 34 17 52 26 13 40 20 10 5 16 8 4 2 1`\n",
    "\n",
    "該序列的長度為 16，這個長度稱為 **cycle length**。\n",
    "\n",
    "* 已知對於任意 0 < n < 1,000,000，演算法都會停止。  \n",
    "* 給定一個整數 n，可以計算其 cycle length。  \n",
    "* 對於兩個整數 i 和 j，需要求出 **所有 [i, j] 區間整數的最大 cycle length**。\n",
    "\n",
    "---\n",
    "\n",
    "## Input\n",
    "- 輸入包含多行，每行兩個整數 `i j` (0 < i, j < 10,000)。  \n",
    "- 直到 EOF 結束。  \n",
    "\n",
    "## Output\n",
    "- 對於每行輸入的 `i j`，輸出三個數字：`i j max_cycle_length`  \n",
    "- 其中 `i j` 須與輸入順序相同（不可交換）。  \n",
    "- 三數以空白分隔，每組結果獨立一行。\n",
    "\n",
    "---\n",
    "\n",
    "## 範例\n",
    "\n",
    "### Sample Input\n",
    "```\n",
    "1 10\n",
    "100 200\n",
    "201 210\n",
    "900 1000\n",
    "```\n",
    "\n",
    "### Sample Output\n",
    "```\n",
    "1 10 20\n",
    "100 200 125\n",
    "201 210 89\n",
    "900 1000 174\n",
    "```"
   ]
  },
  {
   "cell_type": "code",
   "execution_count": 1,
   "id": "82892be6",
   "metadata": {},
   "outputs": [
    {
     "name": "stdout",
     "output_type": "stream",
     "text": [
      "1 10 20\n",
      "100 200 125\n",
      "201 210 89\n",
      "900 1000 174\n"
     ]
    }
   ],
   "source": [
    "from io import StringIO\n",
    "import sys\n",
    "\n",
    "# 模擬 stdin 輸入\n",
    "sys.stdin = StringIO(\n",
    "\"\"\"1 10\n",
    "100 200\n",
    "201 210\n",
    "900 1000\n",
    "\"\"\")\n",
    "\n",
    "def cycle_length(n):\n",
    "    count = 1\n",
    "    while (n != 1):\n",
    "        if (n % 2 == 0):\n",
    "            n = n / 2\n",
    "        else:\n",
    "            n = 3 * n + 1\n",
    "        count += 1\n",
    "    return count \n",
    "\n",
    "for lines in sys.stdin:\n",
    "    i, j = map(int, lines.split())\n",
    "    a, b = min(i, j), max(i, j)\n",
    "    maxL = 0\n",
    "    for n in range(a, b + 1):\n",
    "        maxL = max(maxL, cycle_length(n))\n",
    "    print(i, j, maxL)"
   ]
  }
 ],
 "metadata": {
  "kernelspec": {
   "display_name": "myenv",
   "language": "python",
   "name": "python3"
  },
  "language_info": {
   "codemirror_mode": {
    "name": "ipython",
    "version": 3
   },
   "file_extension": ".py",
   "mimetype": "text/x-python",
   "name": "python",
   "nbconvert_exporter": "python",
   "pygments_lexer": "ipython3",
   "version": "3.10.17"
  }
 },
 "nbformat": 4,
 "nbformat_minor": 5
}
