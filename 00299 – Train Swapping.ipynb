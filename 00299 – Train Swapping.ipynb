{
 "cells": [
  {
   "cell_type": "markdown",
   "id": "d49d105d",
   "metadata": {},
   "source": [
    "# Optimal Train Swapping\n",
    "\n",
    "## 題目說明\n",
    "在一個舊火車站，有一種「換車工」的工作：  \n",
    "他們的任務是將火車車廂的順序排好，使車廂依序排列為 1, 2, 3, ..., L。  \n",
    "每次只能交換 **相鄰的兩節車廂**。  \n",
    "\n",
    "給定一組車廂的排列，你需要計算：  \n",
    "將它們重新排成升序所需的最少交換次數。\n",
    "\n",
    "> **重點**：最少交換次數 = 此排列中的 **反序數 (inversion count)**。  \n",
    "> 一個反序是指：若 `i < j` 且 `a[i] > a[j]`，則 `(a[i], a[j])` 就構成一個反序。\n",
    "\n",
    "---\n",
    "\n",
    "## 輸入格式\n",
    "- 第一行：整數 `N`，表示測資數量。  \n",
    "- 每筆測資包含兩行：  \n",
    "  1. 一個整數 `L` (0 ≤ L ≤ 50)，表示車廂數量。  \n",
    "  2. 一行包含 `L` 個數字，為 `1..L` 的一個排列，代表當前車廂順序。\n",
    "\n",
    "---\n",
    "\n",
    "## 輸出格式\n",
    "對每筆測資，輸出：\n",
    "```\n",
    "Optimal train swapping takes S swaps.\n",
    "```\n",
    "\n",
    "其中 `S` 是最少交換次數。\n",
    "\n",
    "---\n",
    "\n",
    "### 範例輸入\n",
    "\n",
    "```\n",
    "3\n",
    "3\n",
    "1 3 2\n",
    "4\n",
    "4 3 2 1\n",
    "2\n",
    "2 1\n",
    "```\n",
    "\n",
    "### 範例輸出\n",
    "\n",
    "```\n",
    "Optimal train swapping takes 1 swaps.\n",
    "Optimal train swapping takes 6 swaps.\n",
    "Optimal train swapping takes 1 swaps.\n",
    "```"
   ]
  },
  {
   "cell_type": "code",
   "execution_count": null,
   "id": "267f7f09",
   "metadata": {},
   "outputs": [
    {
     "name": "stdout",
     "output_type": "stream",
     "text": [
      "Optimal train swapping takes 1 swaps.\n",
      "Optimal train swapping takes 6 swaps.\n",
      "Optimal train swapping takes 1 swaps.\n"
     ]
    }
   ],
   "source": [
    "from io import StringIO\n",
    "import sys\n",
    "\n",
    "sys.stdin = StringIO(\n",
    "\"\"\"\\\n",
    "3\n",
    "3\n",
    "1 3 2\n",
    "4\n",
    "4 3 2 1\n",
    "2\n",
    "2 1\n",
    "\"\"\")\n",
    "\n",
    "N = int(sys.stdin.readline().strip())\n",
    "\n",
    "for _ in range(N):\n",
    "    L = int(sys.stdin.readline().strip())\n",
    "    train = list(map(int, sys.stdin.readline().split()))\n",
    "\n",
    "    swaps = 0\n",
    "    for i in range(L):\n",
    "        for j in range(i + 1, L):\n",
    "            if (train[i] > train[j]):\n",
    "                swaps += 1\n",
    "    \n",
    "    print(f\"Optimal train swapping takes {swaps} swaps.\")"
   ]
  }
 ],
 "metadata": {
  "kernelspec": {
   "display_name": "myenv",
   "language": "python",
   "name": "python3"
  },
  "language_info": {
   "codemirror_mode": {
    "name": "ipython",
    "version": 3
   },
   "file_extension": ".py",
   "mimetype": "text/x-python",
   "name": "python",
   "nbconvert_exporter": "python",
   "pygments_lexer": "ipython3",
   "version": "3.10.17"
  }
 },
 "nbformat": 4,
 "nbformat_minor": 5
}
